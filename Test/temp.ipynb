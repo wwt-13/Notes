{
 "cells": [
  {
   "cell_type": "code",
   "execution_count": 29,
   "metadata": {},
   "outputs": [
    {
     "name": "stdout",
     "output_type": "stream",
     "text": [
      "010111100000 1504 0b10111100000\n"
     ]
    }
   ],
   "source": [
    "def binary_invert(n, bit_count):\n",
    "    return (~n + (1 << bit_count)) % (1 << bit_count)\n",
    "\n",
    "n=0b101000011111\n",
    "bit_count=12\n",
    "\n",
    "v_bin=bin(binary_invert(n, bit_count))[2:].zfill(bit_count)\n",
    "\n",
    "print(v_bin,int(v_bin,2))"
   ]
  },
  {
   "cell_type": "code",
   "execution_count": 32,
   "metadata": {},
   "outputs": [
    {
     "name": "stdout",
     "output_type": "stream",
     "text": [
      "0b10110110100100000111\n"
     ]
    }
   ],
   "source": [
    "bit_count=16\n",
    "\n",
    "def binary_invert(n, bit_count):\n",
    "    return (~n + (1 << bit_count)) % (1 << bit_count)\n",
    "\n",
    "def v_bin(n):\n",
    "    return int(bin(binary_invert(n, bit_count))[2:].zfill(bit_count),2)\n",
    "\n",
    "n=0\n",
    "\n",
    "sum=0\n",
    "\n",
    "while n!=-1:\n",
    "    n=int(input(),2)\n",
    "    sum+=v_bin(n)\n",
    "\n",
    "print(bin(sum))\n"
   ]
  },
  {
   "cell_type": "code",
   "execution_count": 37,
   "metadata": {},
   "outputs": [
    {
     "name": "stdout",
     "output_type": "stream",
     "text": [
      "[39187, 2152, 43779, 3595, 17, 15, 1087, 13, 15, 0, 21573, 21332, 18766, 18176]\n",
      "0b101001011011101011\n"
     ]
    }
   ],
   "source": [
    "with open('testfile.txt', 'r') as f:\n",
    "    lines = f.readlines()\n",
    "\n",
    "numbers = [int(line.strip(),2) for line in lines if line.strip().isdigit()]\n",
    "\n",
    "print(numbers)\n",
    "\n",
    "sum=0\n",
    "\n",
    "for n in numbers:\n",
    "    sum+=n\n",
    "\n",
    "print(bin(sum))"
   ]
  }
 ],
 "metadata": {
  "kernelspec": {
   "display_name": "Notes",
   "language": "python",
   "name": "python3"
  },
  "language_info": {
   "codemirror_mode": {
    "name": "ipython",
    "version": 3
   },
   "file_extension": ".py",
   "mimetype": "text/x-python",
   "name": "python",
   "nbconvert_exporter": "python",
   "pygments_lexer": "ipython3",
   "version": "3.8.18"
  }
 },
 "nbformat": 4,
 "nbformat_minor": 2
}
